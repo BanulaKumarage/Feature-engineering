{
 "cells": [
  {
   "cell_type": "code",
   "execution_count": 747,
   "id": "c809c1cb",
   "metadata": {},
   "outputs": [],
   "source": [
    "import pandas as pd\n",
    "import numpy as np\n",
    "import matplotlib.pyplot as plt\n",
    "from sklearn.preprocessing import StandardScaler\n",
    "from sklearn.neighbors import KNeighborsClassifier\n",
    "from sklearn.metrics import accuracy_score\n",
    "from sklearn.metrics import mean_squared_error\n",
    "from sklearn.decomposition import PCA\n",
    "import math\n",
    "import seaborn as sn\n",
    "import xgboost as xgb\n",
    "from imblearn.over_sampling import RandomOverSampler"
   ]
  },
  {
   "cell_type": "code",
   "execution_count": 543,
   "id": "422938d2",
   "metadata": {},
   "outputs": [],
   "source": [
    "import warnings\n",
    "warnings.filterwarnings('ignore')"
   ]
  },
  {
   "cell_type": "code",
   "execution_count": 675,
   "id": "6e754bac",
   "metadata": {},
   "outputs": [],
   "source": [
    "train = pd.read_csv('train.csv')\n",
    "valid = pd.read_csv('valid.csv')\n",
    "test = pd.read_csv('test.csv')"
   ]
  },
  {
   "cell_type": "code",
   "execution_count": 545,
   "id": "54357efc",
   "metadata": {},
   "outputs": [
    {
     "data": {
      "text/html": [
       "<div>\n",
       "<style scoped>\n",
       "    .dataframe tbody tr th:only-of-type {\n",
       "        vertical-align: middle;\n",
       "    }\n",
       "\n",
       "    .dataframe tbody tr th {\n",
       "        vertical-align: top;\n",
       "    }\n",
       "\n",
       "    .dataframe thead th {\n",
       "        text-align: right;\n",
       "    }\n",
       "</style>\n",
       "<table border=\"1\" class=\"dataframe\">\n",
       "  <thead>\n",
       "    <tr style=\"text-align: right;\">\n",
       "      <th></th>\n",
       "      <th>feature_1</th>\n",
       "      <th>feature_2</th>\n",
       "      <th>feature_3</th>\n",
       "      <th>feature_4</th>\n",
       "      <th>feature_5</th>\n",
       "      <th>feature_6</th>\n",
       "      <th>feature_7</th>\n",
       "      <th>feature_8</th>\n",
       "      <th>feature_9</th>\n",
       "      <th>feature_10</th>\n",
       "      <th>...</th>\n",
       "      <th>feature_251</th>\n",
       "      <th>feature_252</th>\n",
       "      <th>feature_253</th>\n",
       "      <th>feature_254</th>\n",
       "      <th>feature_255</th>\n",
       "      <th>feature_256</th>\n",
       "      <th>label_1</th>\n",
       "      <th>label_2</th>\n",
       "      <th>label_3</th>\n",
       "      <th>label_4</th>\n",
       "    </tr>\n",
       "  </thead>\n",
       "  <tbody>\n",
       "    <tr>\n",
       "      <th>0</th>\n",
       "      <td>-1.928826</td>\n",
       "      <td>-0.291540</td>\n",
       "      <td>1.105909</td>\n",
       "      <td>2.070652</td>\n",
       "      <td>0.657838</td>\n",
       "      <td>-0.670940</td>\n",
       "      <td>-0.968238</td>\n",
       "      <td>0.049916</td>\n",
       "      <td>1.111149</td>\n",
       "      <td>-1.834592</td>\n",
       "      <td>...</td>\n",
       "      <td>-0.691538</td>\n",
       "      <td>-1.152522</td>\n",
       "      <td>0.441157</td>\n",
       "      <td>-1.494434</td>\n",
       "      <td>-0.344974</td>\n",
       "      <td>-0.395641</td>\n",
       "      <td>45</td>\n",
       "      <td>NaN</td>\n",
       "      <td>1</td>\n",
       "      <td>6</td>\n",
       "    </tr>\n",
       "    <tr>\n",
       "      <th>1</th>\n",
       "      <td>-1.709277</td>\n",
       "      <td>-1.008998</td>\n",
       "      <td>0.956611</td>\n",
       "      <td>4.313823</td>\n",
       "      <td>-0.669455</td>\n",
       "      <td>1.928765</td>\n",
       "      <td>0.162550</td>\n",
       "      <td>0.152173</td>\n",
       "      <td>2.356505</td>\n",
       "      <td>-2.898549</td>\n",
       "      <td>...</td>\n",
       "      <td>-0.668235</td>\n",
       "      <td>-0.532695</td>\n",
       "      <td>0.151163</td>\n",
       "      <td>-1.876885</td>\n",
       "      <td>1.651534</td>\n",
       "      <td>-2.706490</td>\n",
       "      <td>45</td>\n",
       "      <td>NaN</td>\n",
       "      <td>1</td>\n",
       "      <td>6</td>\n",
       "    </tr>\n",
       "    <tr>\n",
       "      <th>2</th>\n",
       "      <td>-1.906183</td>\n",
       "      <td>-0.357562</td>\n",
       "      <td>-0.682627</td>\n",
       "      <td>4.651838</td>\n",
       "      <td>-0.884940</td>\n",
       "      <td>1.159512</td>\n",
       "      <td>1.354481</td>\n",
       "      <td>-1.432248</td>\n",
       "      <td>2.160144</td>\n",
       "      <td>-3.175735</td>\n",
       "      <td>...</td>\n",
       "      <td>-0.026728</td>\n",
       "      <td>0.440408</td>\n",
       "      <td>2.745906</td>\n",
       "      <td>-0.680754</td>\n",
       "      <td>-0.643588</td>\n",
       "      <td>-2.587203</td>\n",
       "      <td>45</td>\n",
       "      <td>NaN</td>\n",
       "      <td>1</td>\n",
       "      <td>6</td>\n",
       "    </tr>\n",
       "    <tr>\n",
       "      <th>3</th>\n",
       "      <td>0.697872</td>\n",
       "      <td>-2.218567</td>\n",
       "      <td>-0.572214</td>\n",
       "      <td>1.192062</td>\n",
       "      <td>0.329554</td>\n",
       "      <td>0.741364</td>\n",
       "      <td>0.962354</td>\n",
       "      <td>0.993512</td>\n",
       "      <td>2.896854</td>\n",
       "      <td>-1.600380</td>\n",
       "      <td>...</td>\n",
       "      <td>0.709032</td>\n",
       "      <td>0.812106</td>\n",
       "      <td>1.055266</td>\n",
       "      <td>-0.915258</td>\n",
       "      <td>-0.924856</td>\n",
       "      <td>-1.318964</td>\n",
       "      <td>45</td>\n",
       "      <td>NaN</td>\n",
       "      <td>1</td>\n",
       "      <td>6</td>\n",
       "    </tr>\n",
       "    <tr>\n",
       "      <th>4</th>\n",
       "      <td>-1.976895</td>\n",
       "      <td>-0.496308</td>\n",
       "      <td>0.368102</td>\n",
       "      <td>3.739787</td>\n",
       "      <td>-0.132058</td>\n",
       "      <td>1.234980</td>\n",
       "      <td>-0.501003</td>\n",
       "      <td>0.881554</td>\n",
       "      <td>1.630941</td>\n",
       "      <td>-3.853953</td>\n",
       "      <td>...</td>\n",
       "      <td>-0.599700</td>\n",
       "      <td>-1.024829</td>\n",
       "      <td>1.869753</td>\n",
       "      <td>-2.498570</td>\n",
       "      <td>3.268253</td>\n",
       "      <td>-1.356606</td>\n",
       "      <td>45</td>\n",
       "      <td>NaN</td>\n",
       "      <td>1</td>\n",
       "      <td>6</td>\n",
       "    </tr>\n",
       "  </tbody>\n",
       "</table>\n",
       "<p>5 rows × 260 columns</p>\n",
       "</div>"
      ],
      "text/plain": [
       "   feature_1  feature_2  feature_3  feature_4  feature_5  feature_6  \\\n",
       "0  -1.928826  -0.291540   1.105909   2.070652   0.657838  -0.670940   \n",
       "1  -1.709277  -1.008998   0.956611   4.313823  -0.669455   1.928765   \n",
       "2  -1.906183  -0.357562  -0.682627   4.651838  -0.884940   1.159512   \n",
       "3   0.697872  -2.218567  -0.572214   1.192062   0.329554   0.741364   \n",
       "4  -1.976895  -0.496308   0.368102   3.739787  -0.132058   1.234980   \n",
       "\n",
       "   feature_7  feature_8  feature_9  feature_10  ...  feature_251  feature_252  \\\n",
       "0  -0.968238   0.049916   1.111149   -1.834592  ...    -0.691538    -1.152522   \n",
       "1   0.162550   0.152173   2.356505   -2.898549  ...    -0.668235    -0.532695   \n",
       "2   1.354481  -1.432248   2.160144   -3.175735  ...    -0.026728     0.440408   \n",
       "3   0.962354   0.993512   2.896854   -1.600380  ...     0.709032     0.812106   \n",
       "4  -0.501003   0.881554   1.630941   -3.853953  ...    -0.599700    -1.024829   \n",
       "\n",
       "   feature_253  feature_254  feature_255  feature_256  label_1  label_2  \\\n",
       "0     0.441157    -1.494434    -0.344974    -0.395641       45      NaN   \n",
       "1     0.151163    -1.876885     1.651534    -2.706490       45      NaN   \n",
       "2     2.745906    -0.680754    -0.643588    -2.587203       45      NaN   \n",
       "3     1.055266    -0.915258    -0.924856    -1.318964       45      NaN   \n",
       "4     1.869753    -2.498570     3.268253    -1.356606       45      NaN   \n",
       "\n",
       "   label_3  label_4  \n",
       "0        1        6  \n",
       "1        1        6  \n",
       "2        1        6  \n",
       "3        1        6  \n",
       "4        1        6  \n",
       "\n",
       "[5 rows x 260 columns]"
      ]
     },
     "execution_count": 545,
     "metadata": {},
     "output_type": "execute_result"
    }
   ],
   "source": [
    "train.head()"
   ]
  },
  {
   "cell_type": "code",
   "execution_count": 546,
   "id": "0dc19fd0",
   "metadata": {},
   "outputs": [],
   "source": [
    "# Separate features and labels\n",
    "X_train = train.drop(['label_1', 'label_2', 'label_3', 'label_4'], axis=1)\n",
    "y_train = train[['label_1', 'label_2', 'label_3', 'label_4']]\n",
    "X_val = valid.drop(['label_1', 'label_2', 'label_3', 'label_4'], axis=1)\n",
    "y_val = valid[['label_1', 'label_2', 'label_3', 'label_4']]\n",
    "X_test = test.drop(['label_1', 'label_2', 'label_3', 'label_4'], axis=1)\n",
    "y_test = test[['label_1', 'label_2', 'label_3', 'label_4']]"
   ]
  },
  {
   "cell_type": "code",
   "execution_count": 547,
   "id": "c13841ea",
   "metadata": {},
   "outputs": [
    {
     "data": {
      "text/html": [
       "<div>\n",
       "<style scoped>\n",
       "    .dataframe tbody tr th:only-of-type {\n",
       "        vertical-align: middle;\n",
       "    }\n",
       "\n",
       "    .dataframe tbody tr th {\n",
       "        vertical-align: top;\n",
       "    }\n",
       "\n",
       "    .dataframe thead th {\n",
       "        text-align: right;\n",
       "    }\n",
       "</style>\n",
       "<table border=\"1\" class=\"dataframe\">\n",
       "  <thead>\n",
       "    <tr style=\"text-align: right;\">\n",
       "      <th></th>\n",
       "      <th>feature_1</th>\n",
       "      <th>feature_2</th>\n",
       "      <th>feature_3</th>\n",
       "      <th>feature_4</th>\n",
       "      <th>feature_5</th>\n",
       "      <th>feature_6</th>\n",
       "      <th>feature_7</th>\n",
       "      <th>feature_8</th>\n",
       "      <th>feature_9</th>\n",
       "      <th>feature_10</th>\n",
       "      <th>...</th>\n",
       "      <th>feature_247</th>\n",
       "      <th>feature_248</th>\n",
       "      <th>feature_249</th>\n",
       "      <th>feature_250</th>\n",
       "      <th>feature_251</th>\n",
       "      <th>feature_252</th>\n",
       "      <th>feature_253</th>\n",
       "      <th>feature_254</th>\n",
       "      <th>feature_255</th>\n",
       "      <th>feature_256</th>\n",
       "    </tr>\n",
       "  </thead>\n",
       "  <tbody>\n",
       "    <tr>\n",
       "      <th>0</th>\n",
       "      <td>-1.928826</td>\n",
       "      <td>-0.291540</td>\n",
       "      <td>1.105909</td>\n",
       "      <td>2.070652</td>\n",
       "      <td>0.657838</td>\n",
       "      <td>-0.670940</td>\n",
       "      <td>-0.968238</td>\n",
       "      <td>0.049916</td>\n",
       "      <td>1.111149</td>\n",
       "      <td>-1.834592</td>\n",
       "      <td>...</td>\n",
       "      <td>2.029255</td>\n",
       "      <td>1.007398</td>\n",
       "      <td>-0.317517</td>\n",
       "      <td>-0.148447</td>\n",
       "      <td>-0.691538</td>\n",
       "      <td>-1.152522</td>\n",
       "      <td>0.441157</td>\n",
       "      <td>-1.494434</td>\n",
       "      <td>-0.344974</td>\n",
       "      <td>-0.395641</td>\n",
       "    </tr>\n",
       "    <tr>\n",
       "      <th>1</th>\n",
       "      <td>-1.709277</td>\n",
       "      <td>-1.008998</td>\n",
       "      <td>0.956611</td>\n",
       "      <td>4.313823</td>\n",
       "      <td>-0.669455</td>\n",
       "      <td>1.928765</td>\n",
       "      <td>0.162550</td>\n",
       "      <td>0.152173</td>\n",
       "      <td>2.356505</td>\n",
       "      <td>-2.898549</td>\n",
       "      <td>...</td>\n",
       "      <td>1.260712</td>\n",
       "      <td>-1.559120</td>\n",
       "      <td>-1.369495</td>\n",
       "      <td>-1.253272</td>\n",
       "      <td>-0.668235</td>\n",
       "      <td>-0.532695</td>\n",
       "      <td>0.151163</td>\n",
       "      <td>-1.876885</td>\n",
       "      <td>1.651534</td>\n",
       "      <td>-2.706490</td>\n",
       "    </tr>\n",
       "    <tr>\n",
       "      <th>2</th>\n",
       "      <td>-1.906183</td>\n",
       "      <td>-0.357562</td>\n",
       "      <td>-0.682627</td>\n",
       "      <td>4.651838</td>\n",
       "      <td>-0.884940</td>\n",
       "      <td>1.159512</td>\n",
       "      <td>1.354481</td>\n",
       "      <td>-1.432248</td>\n",
       "      <td>2.160144</td>\n",
       "      <td>-3.175735</td>\n",
       "      <td>...</td>\n",
       "      <td>0.223475</td>\n",
       "      <td>-0.136551</td>\n",
       "      <td>-2.210191</td>\n",
       "      <td>-1.463330</td>\n",
       "      <td>-0.026728</td>\n",
       "      <td>0.440408</td>\n",
       "      <td>2.745906</td>\n",
       "      <td>-0.680754</td>\n",
       "      <td>-0.643588</td>\n",
       "      <td>-2.587203</td>\n",
       "    </tr>\n",
       "    <tr>\n",
       "      <th>3</th>\n",
       "      <td>0.697872</td>\n",
       "      <td>-2.218567</td>\n",
       "      <td>-0.572214</td>\n",
       "      <td>1.192062</td>\n",
       "      <td>0.329554</td>\n",
       "      <td>0.741364</td>\n",
       "      <td>0.962354</td>\n",
       "      <td>0.993512</td>\n",
       "      <td>2.896854</td>\n",
       "      <td>-1.600380</td>\n",
       "      <td>...</td>\n",
       "      <td>0.970327</td>\n",
       "      <td>-0.718073</td>\n",
       "      <td>-2.546477</td>\n",
       "      <td>-2.172275</td>\n",
       "      <td>0.709032</td>\n",
       "      <td>0.812106</td>\n",
       "      <td>1.055266</td>\n",
       "      <td>-0.915258</td>\n",
       "      <td>-0.924856</td>\n",
       "      <td>-1.318964</td>\n",
       "    </tr>\n",
       "    <tr>\n",
       "      <th>4</th>\n",
       "      <td>-1.976895</td>\n",
       "      <td>-0.496308</td>\n",
       "      <td>0.368102</td>\n",
       "      <td>3.739787</td>\n",
       "      <td>-0.132058</td>\n",
       "      <td>1.234980</td>\n",
       "      <td>-0.501003</td>\n",
       "      <td>0.881554</td>\n",
       "      <td>1.630941</td>\n",
       "      <td>-3.853953</td>\n",
       "      <td>...</td>\n",
       "      <td>1.291582</td>\n",
       "      <td>-0.739541</td>\n",
       "      <td>-1.097638</td>\n",
       "      <td>-0.574205</td>\n",
       "      <td>-0.599700</td>\n",
       "      <td>-1.024829</td>\n",
       "      <td>1.869753</td>\n",
       "      <td>-2.498570</td>\n",
       "      <td>3.268253</td>\n",
       "      <td>-1.356606</td>\n",
       "    </tr>\n",
       "  </tbody>\n",
       "</table>\n",
       "<p>5 rows × 256 columns</p>\n",
       "</div>"
      ],
      "text/plain": [
       "   feature_1  feature_2  feature_3  feature_4  feature_5  feature_6  \\\n",
       "0  -1.928826  -0.291540   1.105909   2.070652   0.657838  -0.670940   \n",
       "1  -1.709277  -1.008998   0.956611   4.313823  -0.669455   1.928765   \n",
       "2  -1.906183  -0.357562  -0.682627   4.651838  -0.884940   1.159512   \n",
       "3   0.697872  -2.218567  -0.572214   1.192062   0.329554   0.741364   \n",
       "4  -1.976895  -0.496308   0.368102   3.739787  -0.132058   1.234980   \n",
       "\n",
       "   feature_7  feature_8  feature_9  feature_10  ...  feature_247  feature_248  \\\n",
       "0  -0.968238   0.049916   1.111149   -1.834592  ...     2.029255     1.007398   \n",
       "1   0.162550   0.152173   2.356505   -2.898549  ...     1.260712    -1.559120   \n",
       "2   1.354481  -1.432248   2.160144   -3.175735  ...     0.223475    -0.136551   \n",
       "3   0.962354   0.993512   2.896854   -1.600380  ...     0.970327    -0.718073   \n",
       "4  -0.501003   0.881554   1.630941   -3.853953  ...     1.291582    -0.739541   \n",
       "\n",
       "   feature_249  feature_250  feature_251  feature_252  feature_253  \\\n",
       "0    -0.317517    -0.148447    -0.691538    -1.152522     0.441157   \n",
       "1    -1.369495    -1.253272    -0.668235    -0.532695     0.151163   \n",
       "2    -2.210191    -1.463330    -0.026728     0.440408     2.745906   \n",
       "3    -2.546477    -2.172275     0.709032     0.812106     1.055266   \n",
       "4    -1.097638    -0.574205    -0.599700    -1.024829     1.869753   \n",
       "\n",
       "   feature_254  feature_255  feature_256  \n",
       "0    -1.494434    -0.344974    -0.395641  \n",
       "1    -1.876885     1.651534    -2.706490  \n",
       "2    -0.680754    -0.643588    -2.587203  \n",
       "3    -0.915258    -0.924856    -1.318964  \n",
       "4    -2.498570     3.268253    -1.356606  \n",
       "\n",
       "[5 rows x 256 columns]"
      ]
     },
     "execution_count": 547,
     "metadata": {},
     "output_type": "execute_result"
    }
   ],
   "source": [
    "X_train.head()"
   ]
  },
  {
   "cell_type": "code",
   "execution_count": 548,
   "id": "031d3584",
   "metadata": {},
   "outputs": [],
   "source": [
    "knn = KNeighborsClassifier(n_neighbors=1)\n",
    "def knn_classifier(X_train, Y_train, X_val, Y_val):\n",
    "    knn.fit(np.array(X_train), Y_train)\n",
    "\n",
    "    y_pred = knn.predict(np.array(X_val))\n",
    "\n",
    "    accuracy = accuracy_score(Y_val, y_pred)\n",
    "    return accuracy"
   ]
  },
  {
   "cell_type": "markdown",
   "id": "3e4e1cae",
   "metadata": {},
   "source": [
    "### Label_1"
   ]
  },
  {
   "cell_type": "code",
   "execution_count": 655,
   "id": "a996ed6b",
   "metadata": {},
   "outputs": [
    {
     "data": {
      "text/plain": [
       "<Axes: xlabel='label_1', ylabel='count'>"
      ]
     },
     "execution_count": 655,
     "metadata": {},
     "output_type": "execute_result"
    },
    {
     "data": {
      "image/png": "[encoded data removed]",
      "text/plain": [
       "<Figure size 1800x600 with 1 Axes>"
      ]
     },
     "metadata": {},
     "output_type": "display_data"
    }
   ],
   "source": [
    "plt.figure(figsize=(18, 6))\n",
    "sn.countplot(data=y_train, x='label_1', color='teal')"
   ]
  },
  {
   "cell_type": "code",
   "execution_count": 549,
   "id": "db29dcaa",
   "metadata": {},
   "outputs": [
    {
     "name": "stdout",
     "output_type": "stream",
     "text": [
      "Accuracy: 98.93%\n"
     ]
    }
   ],
   "source": [
    "accuracy = knn_classifier(X_train, y_train['label_1'], X_val, y_val['label_1'] )\n",
    "print(f\"Accuracy: {accuracy * 100:.2f}%\")"
   ]
  },
  {
   "cell_type": "code",
   "execution_count": 550,
   "id": "4a00ec83",
   "metadata": {},
   "outputs": [],
   "source": [
    "def correlation(dataset, threshold):\n",
    "    col_corr = set()\n",
    "    corr_matrix = dataset.corr()\n",
    "    for i in range (len(corr_matrix.columns)):\n",
    "        for j in range(i):\n",
    "            if abs(corr_matrix.iloc[i,j]) > threshold:\n",
    "                colname = corr_matrix.columns[i]\n",
    "                col_corr.add(colname)\n",
    "    return col_corr        "
   ]
  },
  {
   "cell_type": "code",
   "execution_count": 551,
   "id": "40509486",
   "metadata": {},
   "outputs": [],
   "source": [
    "def correlation_with_label(dataset, label, thereshold = 0.01):\n",
    "\n",
    "    corr_matrix = dataset.corr()\n",
    "    label_col_id = corr_matrix.columns.get_loc(label)\n",
    "\n",
    "    corr_with_label = corr_matrix.iloc[:, label_col_id]\n",
    "\n",
    "    corr_fearures = corr_with_label[corr_with_label.index != label]\n",
    "    corr_fearures = corr_fearures[corr_fearures.abs() < thereshold]\n",
    "\n",
    "    return corr_fearures.index.tolist()"
   ]
  },
  {
   "cell_type": "code",
   "execution_count": 552,
   "id": "a57ef9e7",
   "metadata": {},
   "outputs": [
    {
     "data": {
      "text/html": [
       "<div>\n",
       "<style scoped>\n",
       "    .dataframe tbody tr th:only-of-type {\n",
       "        vertical-align: middle;\n",
       "    }\n",
       "\n",
       "    .dataframe tbody tr th {\n",
       "        vertical-align: top;\n",
       "    }\n",
       "\n",
       "    .dataframe thead th {\n",
       "        text-align: right;\n",
       "    }\n",
       "</style>\n",
       "<table border=\"1\" class=\"dataframe\">\n",
       "  <thead>\n",
       "    <tr style=\"text-align: right;\">\n",
       "      <th></th>\n",
       "      <th>feature_1</th>\n",
       "      <th>feature_2</th>\n",
       "      <th>feature_3</th>\n",
       "      <th>feature_4</th>\n",
       "      <th>feature_5</th>\n",
       "      <th>feature_6</th>\n",
       "      <th>feature_7</th>\n",
       "      <th>feature_8</th>\n",
       "      <th>feature_9</th>\n",
       "      <th>feature_10</th>\n",
       "      <th>...</th>\n",
       "      <th>feature_251</th>\n",
       "      <th>feature_252</th>\n",
       "      <th>feature_253</th>\n",
       "      <th>feature_254</th>\n",
       "      <th>feature_255</th>\n",
       "      <th>feature_256</th>\n",
       "      <th>label_1</th>\n",
       "      <th>label_2</th>\n",
       "      <th>label_3</th>\n",
       "      <th>label_4</th>\n",
       "    </tr>\n",
       "  </thead>\n",
       "  <tbody>\n",
       "    <tr>\n",
       "      <th>feature_1</th>\n",
       "      <td>1.000000</td>\n",
       "      <td>-0.122368</td>\n",
       "      <td>-0.043844</td>\n",
       "      <td>0.133359</td>\n",
       "      <td>0.085920</td>\n",
       "      <td>0.143903</td>\n",
       "      <td>0.028939</td>\n",
       "      <td>-0.141357</td>\n",
       "      <td>0.049066</td>\n",
       "      <td>0.180607</td>\n",
       "      <td>...</td>\n",
       "      <td>0.080079</td>\n",
       "      <td>-0.293291</td>\n",
       "      <td>-0.130838</td>\n",
       "      <td>0.213589</td>\n",
       "      <td>-0.029109</td>\n",
       "      <td>-0.046556</td>\n",
       "      <td>0.196835</td>\n",
       "      <td>-0.054773</td>\n",
       "      <td>0.012352</td>\n",
       "      <td>-0.027306</td>\n",
       "    </tr>\n",
       "    <tr>\n",
       "      <th>feature_2</th>\n",
       "      <td>-0.122368</td>\n",
       "      <td>1.000000</td>\n",
       "      <td>-0.315640</td>\n",
       "      <td>-0.038636</td>\n",
       "      <td>-0.066823</td>\n",
       "      <td>0.014991</td>\n",
       "      <td>0.001485</td>\n",
       "      <td>-0.069789</td>\n",
       "      <td>-0.177971</td>\n",
       "      <td>-0.229639</td>\n",
       "      <td>...</td>\n",
       "      <td>-0.097919</td>\n",
       "      <td>0.145376</td>\n",
       "      <td>0.227251</td>\n",
       "      <td>0.142215</td>\n",
       "      <td>0.186345</td>\n",
       "      <td>-0.146253</td>\n",
       "      <td>-0.070909</td>\n",
       "      <td>-0.083949</td>\n",
       "      <td>-0.038166</td>\n",
       "      <td>-0.112111</td>\n",
       "    </tr>\n",
       "    <tr>\n",
       "      <th>feature_3</th>\n",
       "      <td>-0.043844</td>\n",
       "      <td>-0.315640</td>\n",
       "      <td>1.000000</td>\n",
       "      <td>0.019540</td>\n",
       "      <td>-0.024949</td>\n",
       "      <td>-0.042450</td>\n",
       "      <td>0.107391</td>\n",
       "      <td>-0.004427</td>\n",
       "      <td>0.133795</td>\n",
       "      <td>0.043577</td>\n",
       "      <td>...</td>\n",
       "      <td>0.039028</td>\n",
       "      <td>-0.032455</td>\n",
       "      <td>-0.095846</td>\n",
       "      <td>-0.044789</td>\n",
       "      <td>-0.191170</td>\n",
       "      <td>0.045783</td>\n",
       "      <td>-0.092739</td>\n",
       "      <td>0.122517</td>\n",
       "      <td>0.305422</td>\n",
       "      <td>0.103653</td>\n",
       "    </tr>\n",
       "    <tr>\n",
       "      <th>feature_4</th>\n",
       "      <td>0.133359</td>\n",
       "      <td>-0.038636</td>\n",
       "      <td>0.019540</td>\n",
       "      <td>1.000000</td>\n",
       "      <td>0.164739</td>\n",
       "      <td>0.342170</td>\n",
       "      <td>-0.033977</td>\n",
       "      <td>-0.120289</td>\n",
       "      <td>0.162836</td>\n",
       "      <td>-0.096058</td>\n",
       "      <td>...</td>\n",
       "      <td>0.239254</td>\n",
       "      <td>-0.263488</td>\n",
       "      <td>0.018143</td>\n",
       "      <td>0.339311</td>\n",
       "      <td>-0.043473</td>\n",
       "      <td>-0.310500</td>\n",
       "      <td>0.009204</td>\n",
       "      <td>-0.005010</td>\n",
       "      <td>-0.117647</td>\n",
       "      <td>0.080519</td>\n",
       "    </tr>\n",
       "    <tr>\n",
       "      <th>feature_5</th>\n",
       "      <td>0.085920</td>\n",
       "      <td>-0.066823</td>\n",
       "      <td>-0.024949</td>\n",
       "      <td>0.164739</td>\n",
       "      <td>1.000000</td>\n",
       "      <td>0.165496</td>\n",
       "      <td>-0.277043</td>\n",
       "      <td>-0.086430</td>\n",
       "      <td>0.098080</td>\n",
       "      <td>0.094618</td>\n",
       "      <td>...</td>\n",
       "      <td>0.124504</td>\n",
       "      <td>0.046793</td>\n",
       "      <td>0.000250</td>\n",
       "      <td>0.366209</td>\n",
       "      <td>0.250435</td>\n",
       "      <td>0.078442</td>\n",
       "      <td>0.068396</td>\n",
       "      <td>0.068817</td>\n",
       "      <td>0.068270</td>\n",
       "      <td>0.025991</td>\n",
       "    </tr>\n",
       "    <tr>\n",
       "      <th>...</th>\n",
       "      <td>...</td>\n",
       "      <td>...</td>\n",
       "      <td>...</td>\n",
       "      <td>...</td>\n",
       "      <td>...</td>\n",
       "      <td>...</td>\n",
       "      <td>...</td>\n",
       "      <td>...</td>\n",
       "      <td>...</td>\n",
       "      <td>...</td>\n",
       "      <td>...</td>\n",
       "      <td>...</td>\n",
       "      <td>...</td>\n",
       "      <td>...</td>\n",
       "      <td>...</td>\n",
       "      <td>...</td>\n",
       "      <td>...</td>\n",
       "      <td>...</td>\n",
       "      <td>...</td>\n",
       "      <td>...</td>\n",
       "      <td>...</td>\n",
       "    </tr>\n",
       "    <tr>\n",
       "      <th>feature_256</th>\n",
       "      <td>-0.046556</td>\n",
       "      <td>-0.146253</td>\n",
       "      <td>0.045783</td>\n",
       "      <td>-0.310500</td>\n",
       "      <td>0.078442</td>\n",
       "      <td>0.137188</td>\n",
       "      <td>-0.264550</td>\n",
       "      <td>-0.258903</td>\n",
       "      <td>0.212040</td>\n",
       "      <td>-0.238555</td>\n",
       "      <td>...</td>\n",
       "      <td>-0.355017</td>\n",
       "      <td>0.401299</td>\n",
       "      <td>-0.146592</td>\n",
       "      <td>-0.262347</td>\n",
       "      <td>0.179979</td>\n",
       "      <td>1.000000</td>\n",
       "      <td>0.019870</td>\n",
       "      <td>0.021947</td>\n",
       "      <td>0.361959</td>\n",
       "      <td>0.080645</td>\n",
       "    </tr>\n",
       "    <tr>\n",
       "      <th>label_1</th>\n",
       "      <td>0.196835</td>\n",
       "      <td>-0.070909</td>\n",
       "      <td>-0.092739</td>\n",
       "      <td>0.009204</td>\n",
       "      <td>0.068396</td>\n",
       "      <td>-0.089151</td>\n",
       "      <td>0.026829</td>\n",
       "      <td>-0.058984</td>\n",
       "      <td>0.119387</td>\n",
       "      <td>0.120220</td>\n",
       "      <td>...</td>\n",
       "      <td>0.036830</td>\n",
       "      <td>-0.068237</td>\n",
       "      <td>0.016891</td>\n",
       "      <td>0.163097</td>\n",
       "      <td>0.216063</td>\n",
       "      <td>0.019870</td>\n",
       "      <td>1.000000</td>\n",
       "      <td>-0.038758</td>\n",
       "      <td>-0.403477</td>\n",
       "      <td>-0.021115</td>\n",
       "    </tr>\n",
       "    <tr>\n",
       "      <th>label_2</th>\n",
       "      <td>-0.054773</td>\n",
       "      <td>-0.083949</td>\n",
       "      <td>0.122517</td>\n",
       "      <td>-0.005010</td>\n",
       "      <td>0.068817</td>\n",
       "      <td>0.089700</td>\n",
       "      <td>-0.092337</td>\n",
       "      <td>-0.090452</td>\n",
       "      <td>0.093125</td>\n",
       "      <td>0.010411</td>\n",
       "      <td>...</td>\n",
       "      <td>-0.008342</td>\n",
       "      <td>0.025528</td>\n",
       "      <td>-0.079649</td>\n",
       "      <td>0.028317</td>\n",
       "      <td>0.015842</td>\n",
       "      <td>0.021947</td>\n",
       "      <td>-0.038758</td>\n",
       "      <td>1.000000</td>\n",
       "      <td>0.086053</td>\n",
       "      <td>0.242613</td>\n",
       "    </tr>\n",
       "    <tr>\n",
       "      <th>label_3</th>\n",
       "      <td>0.012352</td>\n",
       "      <td>-0.038166</td>\n",
       "      <td>0.305422</td>\n",
       "      <td>-0.117647</td>\n",
       "      <td>0.068270</td>\n",
       "      <td>0.237470</td>\n",
       "      <td>-0.085678</td>\n",
       "      <td>-0.052134</td>\n",
       "      <td>0.040492</td>\n",
       "      <td>-0.092567</td>\n",
       "      <td>...</td>\n",
       "      <td>-0.084131</td>\n",
       "      <td>0.151066</td>\n",
       "      <td>-0.026967</td>\n",
       "      <td>-0.012616</td>\n",
       "      <td>-0.129308</td>\n",
       "      <td>0.361959</td>\n",
       "      <td>-0.403477</td>\n",
       "      <td>0.086053</td>\n",
       "      <td>1.000000</td>\n",
       "      <td>0.016825</td>\n",
       "    </tr>\n",
       "    <tr>\n",
       "      <th>label_4</th>\n",
       "      <td>-0.027306</td>\n",
       "      <td>-0.112111</td>\n",
       "      <td>0.103653</td>\n",
       "      <td>0.080519</td>\n",
       "      <td>0.025991</td>\n",
       "      <td>0.120788</td>\n",
       "      <td>-0.089465</td>\n",
       "      <td>-0.057824</td>\n",
       "      <td>0.007271</td>\n",
       "      <td>0.007039</td>\n",
       "      <td>...</td>\n",
       "      <td>-0.022898</td>\n",
       "      <td>0.055896</td>\n",
       "      <td>-0.091317</td>\n",
       "      <td>-0.038093</td>\n",
       "      <td>-0.025133</td>\n",
       "      <td>0.080645</td>\n",
       "      <td>-0.021115</td>\n",
       "      <td>0.242613</td>\n",
       "      <td>0.016825</td>\n",
       "      <td>1.000000</td>\n",
       "    </tr>\n",
       "  </tbody>\n",
       "</table>\n",
       "<p>260 rows × 260 columns</p>\n",
       "</div>"
      ],
      "text/plain": [
       "             feature_1  feature_2  feature_3  feature_4  feature_5  feature_6  \\\n",
       "feature_1     1.000000  -0.122368  -0.043844   0.133359   0.085920   0.143903   \n",
       "feature_2    -0.122368   1.000000  -0.315640  -0.038636  -0.066823   0.014991   \n",
       "feature_3    -0.043844  -0.315640   1.000000   0.019540  -0.024949  -0.042450   \n",
       "feature_4     0.133359  -0.038636   0.019540   1.000000   0.164739   0.342170   \n",
       "feature_5     0.085920  -0.066823  -0.024949   0.164739   1.000000   0.165496   \n",
       "...                ...        ...        ...        ...        ...        ...   \n",
       "feature_256  -0.046556  -0.146253   0.045783  -0.310500   0.078442   0.137188   \n",
       "label_1       0.196835  -0.070909  -0.092739   0.009204   0.068396  -0.089151   \n",
       "label_2      -0.054773  -0.083949   0.122517  -0.005010   0.068817   0.089700   \n",
       "label_3       0.012352  -0.038166   0.305422  -0.117647   0.068270   0.237470   \n",
       "label_4      -0.027306  -0.112111   0.103653   0.080519   0.025991   0.120788   \n",
       "\n",
       "             feature_7  feature_8  feature_9  feature_10  ...  feature_251  \\\n",
       "feature_1     0.028939  -0.141357   0.049066    0.180607  ...     0.080079   \n",
       "feature_2     0.001485  -0.069789  -0.177971   -0.229639  ...    -0.097919   \n",
       "feature_3     0.107391  -0.004427   0.133795    0.043577  ...     0.039028   \n",
       "feature_4    -0.033977  -0.120289   0.162836   -0.096058  ...     0.239254   \n",
       "feature_5    -0.277043  -0.086430   0.098080    0.094618  ...     0.124504   \n",
       "...                ...        ...        ...         ...  ...          ...   \n",
       "feature_256  -0.264550  -0.258903   0.212040   -0.238555  ...    -0.355017   \n",
       "label_1       0.026829  -0.058984   0.119387    0.120220  ...     0.036830   \n",
       "label_2      -0.092337  -0.090452   0.093125    0.010411  ...    -0.008342   \n",
       "label_3      -0.085678  -0.052134   0.040492   -0.092567  ...    -0.084131   \n",
       "label_4      -0.089465  -0.057824   0.007271    0.007039  ...    -0.022898   \n",
       "\n",
       "             feature_252  feature_253  feature_254  feature_255  feature_256  \\\n",
       "feature_1      -0.293291    -0.130838     0.213589    -0.029109    -0.046556   \n",
       "feature_2       0.145376     0.227251     0.142215     0.186345    -0.146253   \n",
       "feature_3      -0.032455    -0.095846    -0.044789    -0.191170     0.045783   \n",
       "feature_4      -0.263488     0.018143     0.339311    -0.043473    -0.310500   \n",
       "feature_5       0.046793     0.000250     0.366209     0.250435     0.078442   \n",
       "...                  ...          ...          ...          ...          ...   \n",
       "feature_256     0.401299    -0.146592    -0.262347     0.179979     1.000000   \n",
       "label_1        -0.068237     0.016891     0.163097     0.216063     0.019870   \n",
       "label_2         0.025528    -0.079649     0.028317     0.015842     0.021947   \n",
       "label_3         0.151066    -0.026967    -0.012616    -0.129308     0.361959   \n",
       "label_4         0.055896    -0.091317    -0.038093    -0.025133     0.080645   \n",
       "\n",
       "              label_1   label_2   label_3   label_4  \n",
       "feature_1    0.196835 -0.054773  0.012352 -0.027306  \n",
       "feature_2   -0.070909 -0.083949 -0.038166 -0.112111  \n",
       "feature_3   -0.092739  0.122517  0.305422  0.103653  \n",
       "feature_4    0.009204 -0.005010 -0.117647  0.080519  \n",
       "feature_5    0.068396  0.068817  0.068270  0.025991  \n",
       "...               ...       ...       ...       ...  \n",
       "feature_256  0.019870  0.021947  0.361959  0.080645  \n",
       "label_1      1.000000 -0.038758 -0.403477 -0.021115  \n",
       "label_2     -0.038758  1.000000  0.086053  0.242613  \n",
       "label_3     -0.403477  0.086053  1.000000  0.016825  \n",
       "label_4     -0.021115  0.242613  0.016825  1.000000  \n",
       "\n",
       "[260 rows x 260 columns]"
      ]
     },
     "execution_count": 552,
     "metadata": {},
     "output_type": "execute_result"
    }
   ],
   "source": [
    "train.corr()"
   ]
  },
  {
   "cell_type": "code",
   "execution_count": 553,
   "id": "6dfb7ac8",
   "metadata": {},
   "outputs": [
    {
     "data": {
      "text/plain": [
       "14"
      ]
     },
     "execution_count": 553,
     "metadata": {},
     "output_type": "execute_result"
    }
   ],
   "source": [
    "corr_features = correlation_with_label(train, 'label_1', 0.01)\n",
    "len(set(corr_features))"
   ]
  },
  {
   "cell_type": "code",
   "execution_count": 554,
   "id": "83beb9e8",
   "metadata": {},
   "outputs": [],
   "source": [
    "X_train_filtered = X_train.drop(columns=list(corr_features))\n",
    "X_val_filtered = X_val.drop(columns=list(corr_features))\n",
    "X_test_filtered = X_test.drop(columns=list(corr_features))"
   ]
  },
  {
   "cell_type": "code",
   "execution_count": 555,
   "id": "80aa81f4",
   "metadata": {},
   "outputs": [
    {
     "data": {
      "text/plain": [
       "53"
      ]
     },
     "execution_count": 555,
     "metadata": {},
     "output_type": "execute_result"
    }
   ],
   "source": [
    "corr_features = correlation(X_train_filtered, 0.5)\n",
    "len(set(corr_features))"
   ]
  },
  {
   "cell_type": "code",
   "execution_count": 556,
   "id": "5eccc2cb",
   "metadata": {},
   "outputs": [],
   "source": [
    "X_train_filtered = X_train_filtered.drop(columns=list(corr_features))\n",
    "X_val_filtered = X_val_filtered.drop(columns=list(corr_features))\n",
    "X_test_filtered = X_test_filtered.drop(columns=list(corr_features))"
   ]
  },
  {
   "cell_type": "code",
   "execution_count": 557,
   "id": "d36c0f14",
   "metadata": {},
   "outputs": [],
   "source": [
    "scaler = StandardScaler()\n",
    "X_train_scaled = scaler.fit_transform(X_train_filtered)\n",
    "X_val_scaled = scaler.transform(X_val_filtered)\n",
    "X_test_scaled = scaler.transform(X_test_filtered)"
   ]
  },
  {
   "cell_type": "code",
   "execution_count": 558,
   "id": "be87be17",
   "metadata": {},
   "outputs": [
    {
     "name": "stdout",
     "output_type": "stream",
     "text": [
      "Accuracy: 98.53%\n"
     ]
    }
   ],
   "source": [
    "accuracy = knn_classifier(X_train_scaled, y_train['label_1'], X_val_scaled, y_val['label_1'] )\n",
    "print(f\"Accuracy: {accuracy * 100:.2f}%\")\n"
   ]
  },
  {
   "cell_type": "code",
   "execution_count": 571,
   "id": "a23c5205",
   "metadata": {},
   "outputs": [],
   "source": [
    "pca = PCA(n_components=0.95, svd_solver = 'full')\n",
    "X_train_pca = pca.fit_transform(X_train_scaled)\n",
    "X_val_pca = pca.transform(X_val_scaled)\n",
    "X_test_pca = pca.transform(X_test_scaled)"
   ]
  },
  {
   "cell_type": "code",
   "execution_count": 572,
   "id": "61511489",
   "metadata": {},
   "outputs": [
    {
     "data": {
      "text/plain": [
       "(28520, 64)"
      ]
     },
     "execution_count": 572,
     "metadata": {},
     "output_type": "execute_result"
    }
   ],
   "source": [
    "X_train_pca.shape"
   ]
  },
  {
   "cell_type": "code",
   "execution_count": 574,
   "id": "d4c51d18",
   "metadata": {},
   "outputs": [
    {
     "name": "stdout",
     "output_type": "stream",
     "text": [
      "48\n"
     ]
    }
   ],
   "source": [
    "min_shape = 256\n",
    "while True:\n",
    "    pca = PCA(n_components=0.95, svd_solver='full')\n",
    "    min_shape = X_train_pca.shape[1]\n",
    "    X_train_pca = pca.fit_transform(X_train_pca)\n",
    "    X_val_pca = pca.transform(X_val_pca)\n",
    "    X_test_pca = pca.transform(X_test_pca)\n",
    "    accuracy_val = knn_classifier(X_train_pca, y_train['label_1'], X_val_pca, y_val['label_1'] )\n",
    "    y_pred_test = knn.predict(np.array(X_test_pca))\n",
    "    accuracy_test = accuracy_score(y_test['label_1'], y_pred_test)\n",
    "    if accuracy_test < 0.98 or accuracy_val < 0.975:\n",
    "        break\n",
    " \n",
    "print (min_shape)"
   ]
  },
  {
   "cell_type": "code",
   "execution_count": 575,
   "id": "b388b77f",
   "metadata": {},
   "outputs": [],
   "source": [
    "pca = PCA(n_components=48, svd_solver = 'full')\n",
    "X_train_pca = pca.fit_transform(X_train_scaled)\n",
    "X_val_pca = pca.transform(X_val_scaled)\n",
    "X_test_pca = pca.transform(X_test_scaled)"
   ]
  },
  {
   "cell_type": "code",
   "execution_count": 576,
   "id": "49c41fe0",
   "metadata": {},
   "outputs": [
    {
     "data": {
      "text/plain": [
       "(28520, 48)"
      ]
     },
     "execution_count": 576,
     "metadata": {},
     "output_type": "execute_result"
    }
   ],
   "source": [
    "X_train_pca.shape"
   ]
  },
  {
   "cell_type": "code",
   "execution_count": 577,
   "id": "0746ce3f",
   "metadata": {},
   "outputs": [
    {
     "name": "stdout",
     "output_type": "stream",
     "text": [
      "Accuracy: 97.87%\n"
     ]
    }
   ],
   "source": [
    "accuracy = knn_classifier(X_train_pca, y_train['label_1'], X_val_pca, y_val['label_1'] )\n",
    "print(f\"Accuracy: {accuracy * 100:.2f}%\")"
   ]
  },
  {
   "cell_type": "code",
   "execution_count": 578,
   "id": "d3eb150c",
   "metadata": {},
   "outputs": [
    {
     "name": "stdout",
     "output_type": "stream",
     "text": [
      "Accuracy: 98.13%\n"
     ]
    }
   ],
   "source": [
    "y_pred_test = knn.predict(np.array(X_test_pca))\n",
    "\n",
    "accuracy = accuracy_score(y_test['label_1'], y_pred_test)\n",
    "print(f\"Accuracy: {accuracy * 100:.2f}%\")"
   ]
  },
  {
   "cell_type": "code",
   "execution_count": 579,
   "metadata": {},
   "outputs": [
    {
     "data": {
      "text/plain": [
       "array(['pca0', 'pca1', 'pca2', 'pca3', 'pca4', 'pca5', 'pca6', 'pca7',\n",
       "       'pca8', 'pca9', 'pca10', 'pca11', 'pca12', 'pca13', 'pca14',\n",
       "       'pca15', 'pca16', 'pca17', 'pca18', 'pca19', 'pca20', 'pca21',\n",
       "       'pca22', 'pca23', 'pca24', 'pca25', 'pca26', 'pca27', 'pca28',\n",
       "       'pca29', 'pca30', 'pca31', 'pca32', 'pca33', 'pca34', 'pca35',\n",
       "       'pca36', 'pca37', 'pca38', 'pca39', 'pca40', 'pca41', 'pca42',\n",
       "       'pca43', 'pca44', 'pca45', 'pca46', 'pca47'], dtype=object)"
      ]
     },
     "execution_count": 579,
     "metadata": {},
     "output_type": "execute_result"
    }
   ],
   "source": [
    "label1_features = pca.get_feature_names_out()\n",
    "label1_features"
   ]
  },
  {
   "cell_type": "code",
   "execution_count": 580,
   "id": "85ebdfa1",
   "metadata": {},
   "outputs": [
    {
     "data": {
      "image/png": "[encoded data removed]",
      "text/plain": [
       "<Figure size 640x480 with 1 Axes>"
      ]
     },
     "metadata": {},
     "output_type": "display_data"
    }
   ],
   "source": [
    "plt.bar(\n",
    "    range(1,len(pca.explained_variance_)+1),\n",
    "    pca.explained_variance_\n",
    "    )\n",
    " \n",
    "plt.plot(\n",
    "    range(1,len(pca.explained_variance_ )+1),\n",
    "    np.cumsum(pca.explained_variance_),\n",
    "    c='red',\n",
    "    label='Label_1')\n",
    " \n",
    "plt.legend(loc='upper left')\n",
    "plt.xlabel('Number of Features')\n",
    "plt.ylabel('Explained variance (eignenvalues)')\n",
    "plt.title('Scree plot')\n",
    " \n",
    "plt.show()"
   ]
  },
  {
   "cell_type": "markdown",
   "id": "57dc7388",
   "metadata": {},
   "source": [
    "### Label_2"
   ]
  },
  {
   "cell_type": "code",
   "execution_count": 581,
   "id": "6f958537",
   "metadata": {},
   "outputs": [],
   "source": [
    "label2_train = train.copy()\n",
    "label2_valid = valid.copy()\n",
    "label2_test = test.copy()"
   ]
  },
  {
   "cell_type": "code",
   "execution_count": 582,
   "id": "1ce2eb29",
   "metadata": {},
   "outputs": [],
   "source": [
    "label2_train = label2_train.dropna(subset=['label_2'])\n",
    "label2_valid = label2_valid.dropna(subset=['label_2'])\n",
    "label2_test = label2_test.dropna(subset=['label_2'])"
   ]
  },
  {
   "cell_type": "code",
   "execution_count": 583,
   "id": "35f5c85c",
   "metadata": {},
   "outputs": [
    {
     "data": {
      "text/plain": [
       "480    25.0\n",
       "481    25.0\n",
       "482    25.0\n",
       "483    25.0\n",
       "484    25.0\n",
       "Name: label_2, dtype: float64"
      ]
     },
     "execution_count": 583,
     "metadata": {},
     "output_type": "execute_result"
    }
   ],
   "source": [
    "label2_train['label_2'].head()"
   ]
  },
  {
   "cell_type": "code",
   "execution_count": 584,
   "id": "21a2cad3",
   "metadata": {},
   "outputs": [],
   "source": [
    "X_train = label2_train.drop(['label_1', 'label_2', 'label_3', 'label_4'], axis=1)\n",
    "y_train = label2_train[['label_1', 'label_2', 'label_3', 'label_4']]\n",
    "X_val = label2_valid.drop(['label_1', 'label_2', 'label_3', 'label_4'], axis=1)\n",
    "y_val = label2_valid[['label_1', 'label_2', 'label_3', 'label_4']]\n",
    "X_test = label2_test.drop(['label_1', 'label_2', 'label_3', 'label_4'], axis=1)\n",
    "y_test = label2_test[['label_1', 'label_2', 'label_3', 'label_4']]"
   ]
  },
  {
   "cell_type": "code",
   "execution_count": 687,
   "id": "963386c2",
   "metadata": {},
   "outputs": [
    {
     "data": {
      "text/plain": [
       "<Axes: xlabel='label_2', ylabel='Count'>"
      ]
     },
     "execution_count": 687,
     "metadata": {},
     "output_type": "execute_result"
    },
    {
     "data": {
      "image/png": "[encoded data removed]",
      "text/plain": [
       "<Figure size 1800x600 with 1 Axes>"
      ]
     },
     "metadata": {},
     "output_type": "display_data"
    }
   ],
   "source": [
    "plt.figure(figsize=(18, 6))\n",
    "sn.histplot(data=y_train, x='label_2', bins=20, kde=False)"
   ]
  },
  {
   "cell_type": "code",
   "execution_count": 585,
   "id": "3f7153e4",
   "metadata": {},
   "outputs": [
    {
     "name": "stdout",
     "output_type": "stream",
     "text": [
      "Test Score: 3.29 RMSE\n"
     ]
    }
   ],
   "source": [
    "model = xgb.XGBRegressor()\n",
    "model.fit(X_train, y_train['label_2'])\n",
    "y_pred = model.predict(X_val)\n",
    "testScore = math.sqrt(mean_squared_error(y_val['label_2'], y_pred))\n",
    "print('Test Score: %.2f RMSE' % (testScore))"
   ]
  },
  {
   "cell_type": "code",
   "execution_count": 586,
   "id": "f79eee14",
   "metadata": {},
   "outputs": [
    {
     "data": {
      "text/plain": [
       "25"
      ]
     },
     "execution_count": 586,
     "metadata": {},
     "output_type": "execute_result"
    }
   ],
   "source": [
    "corr_features = correlation_with_label(label2_train, 'label_2')\n",
    "len(set(corr_features))"
   ]
  },
  {
   "cell_type": "code",
   "execution_count": 588,
   "id": "b97b5399",
   "metadata": {},
   "outputs": [],
   "source": [
    "X_train_filtered = X_train.drop(columns=list(corr_features))\n",
    "X_val_filtered = X_val.drop(columns=list(corr_features))\n",
    "X_test_filtered = X_test.drop(columns=list(corr_features))"
   ]
  },
  {
   "cell_type": "code",
   "execution_count": 589,
   "id": "69bce22c",
   "metadata": {},
   "outputs": [
    {
     "data": {
      "text/plain": [
       "53"
      ]
     },
     "execution_count": 589,
     "metadata": {},
     "output_type": "execute_result"
    }
   ],
   "source": [
    "corr_features = correlation(X_train_filtered, 0.5)\n",
    "len(set(corr_features))"
   ]
  },
  {
   "cell_type": "code",
   "execution_count": 590,
   "id": "11a51dc5",
   "metadata": {},
   "outputs": [],
   "source": [
    "X_train_filtered = X_train_filtered.drop(columns=list(corr_features))\n",
    "X_val_filtered = X_val_filtered.drop(columns=list(corr_features))\n",
    "X_test_filtered = X_test_filtered.drop(columns=list(corr_features))"
   ]
  },
  {
   "cell_type": "code",
   "execution_count": 591,
   "id": "bc1f3971",
   "metadata": {},
   "outputs": [],
   "source": [
    "scaler = StandardScaler()\n",
    "X_train_scaled = scaler.fit_transform(X_train_filtered)\n",
    "X_val_scaled = scaler.transform(X_val_filtered)\n",
    "X_test_scaled = scaler.transform(X_test_filtered)"
   ]
  },
  {
   "cell_type": "code",
   "execution_count": 592,
   "id": "48576511",
   "metadata": {},
   "outputs": [],
   "source": [
    "pca = PCA(n_components=0.95, svd_solver = 'full')\n",
    "X_train_pca = pca.fit_transform(X_train_scaled)\n",
    "X_val_pca = pca.transform(X_val_scaled)\n",
    "X_test_pca = pca.transform(X_test_scaled)"
   ]
  },
  {
   "cell_type": "code",
   "execution_count": 593,
   "id": "dd9b00cc",
   "metadata": {},
   "outputs": [
    {
     "name": "stdout",
     "output_type": "stream",
     "text": [
      "25\n"
     ]
    }
   ],
   "source": [
    "min_shape = 256\n",
    "while True:\n",
    "    pca = PCA(n_components=0.95, svd_solver='full')\n",
    "    min_shape = X_train_pca.shape[1]\n",
    "    X_train_pca = pca.fit_transform(X_train_pca)\n",
    "    X_val_pca = pca.transform(X_val_pca)\n",
    "    X_test_pca = pca.transform(X_test_pca)\n",
    "    model = xgb.XGBRegressor()\n",
    "    model.fit(X_train_pca, y_train['label_2'])\n",
    "    y_pred = model.predict(X_val_pca)\n",
    "    testScore_val = math.sqrt(mean_squared_error(y_val['label_2'], y_pred))\n",
    "    y_pred_test = model.predict(X_test_pca)\n",
    "    testScore_test = math.sqrt(mean_squared_error(y_test['label_2'], y_pred_test))\n",
    "    if testScore_val > 3.8 or testScore_test > 3.6:\n",
    "        break\n",
    " \n",
    "print (min_shape)   \n",
    "    "
   ]
  },
  {
   "cell_type": "code",
   "execution_count": 594,
   "id": "8e7ce54f",
   "metadata": {},
   "outputs": [],
   "source": [
    "pca = PCA(n_components=25, svd_solver = 'full')\n",
    "X_train_pca = pca.fit_transform(X_train_scaled)\n",
    "X_val_pca = pca.transform(X_val_scaled)\n",
    "X_test_pca = pca.transform(X_test_scaled)"
   ]
  },
  {
   "cell_type": "code",
   "execution_count": 595,
   "id": "2b3f1c09",
   "metadata": {},
   "outputs": [
    {
     "name": "stdout",
     "output_type": "stream",
     "text": [
      "Test Score: 3.77 RMSE\n"
     ]
    }
   ],
   "source": [
    "model = xgb.XGBRegressor()\n",
    "model.fit(X_train_pca, y_train['label_2'])\n",
    "y_pred = model.predict(X_val_pca)\n",
    "testScore = math.sqrt(mean_squared_error(y_val['label_2'], y_pred))\n",
    "print('Test Score: %.2f RMSE' % (testScore))"
   ]
  },
  {
   "cell_type": "code",
   "execution_count": 596,
   "id": "693658ef",
   "metadata": {},
   "outputs": [
    {
     "name": "stdout",
     "output_type": "stream",
     "text": [
      "Test Score: 3.32 RMSE\n"
     ]
    }
   ],
   "source": [
    "y_pred_test = model.predict(X_test_pca)\n",
    "testScore = math.sqrt(mean_squared_error(y_test['label_2'], y_pred_test))\n",
    "print('Test Score: %.2f RMSE' % (testScore))"
   ]
  },
  {
   "cell_type": "code",
   "execution_count": 597,
   "id": "01a416ba",
   "metadata": {},
   "outputs": [
    {
     "data": {
      "text/plain": [
       "array(['pca0', 'pca1', 'pca2', 'pca3', 'pca4', 'pca5', 'pca6', 'pca7',\n",
       "       'pca8', 'pca9', 'pca10', 'pca11', 'pca12', 'pca13', 'pca14',\n",
       "       'pca15', 'pca16', 'pca17', 'pca18', 'pca19', 'pca20', 'pca21',\n",
       "       'pca22', 'pca23', 'pca24'], dtype=object)"
      ]
     },
     "execution_count": 597,
     "metadata": {},
     "output_type": "execute_result"
    }
   ],
   "source": [
    "label2_features = pca.get_feature_names_out()\n",
    "label2_features"
   ]
  },
  {
   "cell_type": "markdown",
   "id": "fb9bbbd9",
   "metadata": {},
   "source": [
    "### Label_3"
   ]
  },
  {
   "cell_type": "code",
   "execution_count": 656,
   "id": "af96eda5",
   "metadata": {},
   "outputs": [],
   "source": [
    "# Separate features and labels\n",
    "X_train = train.drop(['label_1', 'label_2', 'label_3', 'label_4'], axis=1)\n",
    "y_train = train[['label_1', 'label_2', 'label_3', 'label_4']]\n",
    "X_val = valid.drop(['label_1', 'label_2', 'label_3', 'label_4'], axis=1)\n",
    "y_val = valid[['label_1', 'label_2', 'label_3', 'label_4']]\n",
    "X_test = test.drop(['label_1', 'label_2', 'label_3', 'label_4'], axis=1)\n",
    "y_test = test[['label_1', 'label_2', 'label_3', 'label_4']]"
   ]
  },
  {
   "cell_type": "code",
   "execution_count": 657,
   "id": "62213af5",
   "metadata": {},
   "outputs": [
    {
     "data": {
      "image/png": "[encoded data removed]",
      "text/plain": [
       "<Figure size 640x480 with 1 Axes>"
      ]
     },
     "metadata": {},
     "output_type": "display_data"
    }
   ],
   "source": [
    "ax = sn.countplot(x=y_train['label_3'])\n",
    "\n",
    "for p in ax.patches:\n",
    "    ax.annotate(f'{p.get_height()}', (p.get_x() + p.get_width() / 2., p.get_height()), \n",
    "                ha='center', va='bottom', fontsize=9, color='black')\n"
   ]
  },
  {
   "cell_type": "code",
   "execution_count": 755,
   "id": "f46f00d1",
   "metadata": {},
   "outputs": [],
   "source": [
    "ros = RandomOverSampler(random_state=0, sampling_strategy=0.75)\n",
    "X_train_resampled, y_train_resampled = ros.fit_resample(X_train, y_train['label_3'])"
   ]
  },
  {
   "cell_type": "code",
   "execution_count": 756,
   "id": "42717fce",
   "metadata": {},
   "outputs": [
    {
     "data": {
      "image/png": "[encoded data removed]",
      "text/plain": [
       "<Figure size 640x480 with 1 Axes>"
      ]
     },
     "metadata": {},
     "output_type": "display_data"
    }
   ],
   "source": [
    "ax = sn.countplot(x=y_train_resampled)\n",
    "\n",
    "for p in ax.patches:\n",
    "    ax.annotate(f'{p.get_height()}', (p.get_x() + p.get_width() / 2., p.get_height()), \n",
    "                ha='center', va='bottom', fontsize=9, color='black')\n"
   ]
  },
  {
   "cell_type": "code",
   "execution_count": 757,
   "id": "65c509fc",
   "metadata": {},
   "outputs": [
    {
     "name": "stdout",
     "output_type": "stream",
     "text": [
      "Accuracy: 100.00%\n"
     ]
    }
   ],
   "source": [
    "accuracy = knn_classifier(X_train_resampled, y_train_resampled, X_val, y_val['label_3'] )\n",
    "print(f\"Accuracy: {accuracy * 100:.2f}%\")"
   ]
  },
  {
   "cell_type": "code",
   "execution_count": 758,
   "id": "9461ef31",
   "metadata": {},
   "outputs": [
    {
     "data": {
      "text/plain": [
       "4"
      ]
     },
     "execution_count": 758,
     "metadata": {},
     "output_type": "execute_result"
    }
   ],
   "source": [
    "corr_features = correlation_with_label(train, 'label_3', 0.01)\n",
    "len(set(corr_features))"
   ]
  },
  {
   "cell_type": "code",
   "execution_count": 759,
   "id": "85b105ac",
   "metadata": {},
   "outputs": [],
   "source": [
    "X_train_filtered = X_train_resampled.drop(columns=list(corr_features))\n",
    "X_val_filtered = X_val.drop(columns=list(corr_features))\n",
    "X_test_filtered = X_test.drop(columns=list(corr_features))"
   ]
  },
  {
   "cell_type": "code",
   "execution_count": 760,
   "id": "95bc3fa8",
   "metadata": {},
   "outputs": [
    {
     "data": {
      "text/plain": [
       "60"
      ]
     },
     "execution_count": 760,
     "metadata": {},
     "output_type": "execute_result"
    }
   ],
   "source": [
    "corr_features = correlation(X_train_filtered, 0.5)\n",
    "len(set(corr_features))"
   ]
  },
  {
   "cell_type": "code",
   "execution_count": 761,
   "id": "8a22890f",
   "metadata": {},
   "outputs": [],
   "source": [
    "X_train_filtered = X_train_filtered.drop(columns=list(corr_features))\n",
    "X_val_filtered = X_val_filtered.drop(columns=list(corr_features))\n",
    "X_test_filtered = X_test_filtered.drop(columns=list(corr_features))"
   ]
  },
  {
   "cell_type": "code",
   "execution_count": 762,
   "id": "fb0e699b",
   "metadata": {},
   "outputs": [],
   "source": [
    "scaler = StandardScaler()\n",
    "X_train_scaled = scaler.fit_transform(X_train_filtered)\n",
    "X_val_scaled = scaler.transform(X_val_filtered)\n",
    "X_test_scaled = scaler.transform(X_test_filtered)"
   ]
  },
  {
   "cell_type": "code",
   "execution_count": 773,
   "id": "4ad0c5b1",
   "metadata": {},
   "outputs": [
    {
     "name": "stdout",
     "output_type": "stream",
     "text": [
      "Accuracy: 100.00%\n"
     ]
    }
   ],
   "source": [
    "accuracy = knn_classifier(X_train_scaled, y_train_resampled, X_val_scaled, y_val['label_3'] )\n",
    "print(f\"Accuracy: {accuracy * 100:.2f}%\")"
   ]
  },
  {
   "cell_type": "code",
   "execution_count": 774,
   "id": "a938c826",
   "metadata": {},
   "outputs": [],
   "source": [
    "pca = PCA(n_components=0.95, svd_solver='full')\n",
    "X_train_pca = pca.fit_transform(X_train_scaled)\n",
    "X_val_pca = pca.transform(X_val_scaled)\n",
    "X_test_pca = pca.transform(X_test_scaled)"
   ]
  },
  {
   "cell_type": "code",
   "execution_count": 775,
   "id": "f4aba2c8",
   "metadata": {},
   "outputs": [
    {
     "data": {
      "text/plain": [
       "64"
      ]
     },
     "execution_count": 775,
     "metadata": {},
     "output_type": "execute_result"
    }
   ],
   "source": [
    "X_train_pca.shape[1]"
   ]
  },
  {
   "cell_type": "code",
   "execution_count": 776,
   "id": "a41968ea",
   "metadata": {},
   "outputs": [
    {
     "name": "stdout",
     "output_type": "stream",
     "text": [
      "64\n"
     ]
    }
   ],
   "source": [
    "min_shape = 256\n",
    "while True:\n",
    "    pca = PCA(n_components=0.95, svd_solver='full')\n",
    "    min_shape = X_train_pca.shape[1]\n",
    "    X_train_pca = pca.fit_transform(X_train_pca)\n",
    "    X_val_pca = pca.transform(X_val_pca)\n",
    "    X_test_pca = pca.transform(X_test_pca)\n",
    "    accuracy_val = knn_classifier(X_train_pca, y_train_resampled, X_val_pca, y_val['label_3'] )\n",
    "    y_pred_test = knn.predict(np.array(X_test_pca))\n",
    "    accuracy_test = accuracy_score(y_test['label_3'], y_pred_test)\n",
    "    if accuracy_val < 1 or accuracy_test < 1:\n",
    "        break\n",
    " \n",
    "print (min_shape)\n",
    "    "
   ]
  },
  {
   "cell_type": "code",
   "execution_count": 794,
   "id": "39c5ed83",
   "metadata": {},
   "outputs": [],
   "source": [
    "pca = PCA(n_components=35, svd_solver='full')\n",
    "X_train_pca = pca.fit_transform(X_train_scaled)\n",
    "X_val_pca = pca.transform(X_val_scaled)\n",
    "X_test_pca = pca.transform(X_test_scaled)"
   ]
  },
  {
   "cell_type": "code",
   "execution_count": 795,
   "id": "3b55d1ae",
   "metadata": {},
   "outputs": [
    {
     "name": "stdout",
     "output_type": "stream",
     "text": [
      "Accuracy: 100.00%\n"
     ]
    }
   ],
   "source": [
    "accuracy = knn_classifier(X_train_pca, y_train_resampled, X_val_pca, y_val['label_3'] )\n",
    "print(f\"Accuracy: {accuracy * 100:.2f}%\")"
   ]
  },
  {
   "cell_type": "code",
   "execution_count": 796,
   "id": "167830b1",
   "metadata": {},
   "outputs": [
    {
     "name": "stdout",
     "output_type": "stream",
     "text": [
      "Accuracy: 100.00%\n"
     ]
    }
   ],
   "source": [
    "y_pred_test = knn.predict(np.array(X_test_pca))\n",
    "\n",
    "accuracy = accuracy_score(y_test['label_3'], y_pred_test)\n",
    "print(f\"Accuracy: {accuracy * 100:.2f}%\")"
   ]
  },
  {
   "cell_type": "code",
   "execution_count": 797,
   "id": "d5f79096",
   "metadata": {},
   "outputs": [
    {
     "data": {
      "text/plain": [
       "array(['pca0', 'pca1', 'pca2', 'pca3', 'pca4', 'pca5', 'pca6', 'pca7',\n",
       "       'pca8', 'pca9', 'pca10', 'pca11', 'pca12', 'pca13', 'pca14',\n",
       "       'pca15', 'pca16', 'pca17', 'pca18', 'pca19', 'pca20', 'pca21',\n",
       "       'pca22', 'pca23', 'pca24', 'pca25', 'pca26', 'pca27', 'pca28',\n",
       "       'pca29', 'pca30', 'pca31', 'pca32', 'pca33', 'pca34'], dtype=object)"
      ]
     },
     "execution_count": 797,
     "metadata": {},
     "output_type": "execute_result"
    }
   ],
   "source": [
    "label3_features = pca.get_feature_names_out()\n",
    "label3_features"
   ]
  },
  {
   "cell_type": "code",
   "execution_count": 798,
   "id": "5c46a3ac",
   "metadata": {},
   "outputs": [
    {
     "data": {
      "image/png": "[encoded data removed]",
      "text/plain": [
       "<Figure size 640x480 with 1 Axes>"
      ]
     },
     "metadata": {},
     "output_type": "display_data"
    }
   ],
   "source": [
    "plt.bar(\n",
    "    range(1,len(pca.explained_variance_)+1),\n",
    "    pca.explained_variance_\n",
    "    )\n",
    " \n",
    "plt.plot(\n",
    "    range(1,len(pca.explained_variance_ )+1),\n",
    "    np.cumsum(pca.explained_variance_),\n",
    "    c='red',\n",
    "    label='Label_3')\n",
    " \n",
    "plt.legend(loc='upper left')\n",
    "plt.xlabel('Number of Features')\n",
    "plt.ylabel('Explained variance (eignenvalues)')\n",
    "plt.title('Scree plot')\n",
    " \n",
    "plt.show()"
   ]
  },
  {
   "cell_type": "markdown",
   "id": "87ae0280",
   "metadata": {},
   "source": [
    "### Label_4"
   ]
  },
  {
   "cell_type": "code",
   "execution_count": 809,
   "id": "702751a9",
   "metadata": {},
   "outputs": [
    {
     "data": {
      "image/png": "[encoded data removed]",
      "text/plain": [
       "<Figure size 1800x600 with 1 Axes>"
      ]
     },
     "metadata": {},
     "output_type": "display_data"
    }
   ],
   "source": [
    "plt.figure(figsize=(18, 6))\n",
    "ax = sn.countplot(x=y_train['label_4'], color='teal')\n",
    "\n",
    "for p in ax.patches:\n",
    "    ax.annotate(f'{p.get_height()}', (p.get_x() + p.get_width() / 2., p.get_height()), \n",
    "                ha='center', va='bottom', fontsize=9, color='black')"
   ]
  },
  {
   "cell_type": "code",
   "execution_count": 810,
   "id": "a54dadcc",
   "metadata": {},
   "outputs": [],
   "source": [
    "ros = RandomOverSampler(random_state=0)\n",
    "X_train_resampled, y_train_resampled = ros.fit_resample(X_train, y_train['label_4'])"
   ]
  },
  {
   "cell_type": "code",
   "execution_count": 811,
   "id": "64041a23",
   "metadata": {},
   "outputs": [
    {
     "data": {
      "image/png": "[encoded data removed]",
      "text/plain": [
       "<Figure size 1800x600 with 1 Axes>"
      ]
     },
     "metadata": {},
     "output_type": "display_data"
    }
   ],
   "source": [
    "plt.figure(figsize=(18, 6))\n",
    "ax = sn.countplot(x=y_train_resampled, color='teal')\n",
    "\n",
    "for p in ax.patches:\n",
    "    ax.annotate(f'{p.get_height()}', (p.get_x() + p.get_width() / 2., p.get_height()), \n",
    "                ha='center', va='bottom', fontsize=9, color='black')"
   ]
  },
  {
   "cell_type": "code",
   "execution_count": 816,
   "id": "1a4c1dc7",
   "metadata": {},
   "outputs": [
    {
     "name": "stdout",
     "output_type": "stream",
     "text": [
      "Accuracy: 99.60%\n"
     ]
    }
   ],
   "source": [
    "accuracy = knn_classifier(X_train_resampled, y_train_resampled, X_val, y_val['label_4'] )\n",
    "print(f\"Accuracy: {accuracy * 100:.2f}%\")"
   ]
  },
  {
   "cell_type": "code",
   "execution_count": 822,
   "id": "52fb58e2",
   "metadata": {},
   "outputs": [
    {
     "data": {
      "text/plain": [
       "25"
      ]
     },
     "execution_count": 822,
     "metadata": {},
     "output_type": "execute_result"
    }
   ],
   "source": [
    "corr_features = correlation_with_label(train, 'label_4', 0.01)\n",
    "len(set(corr_features))"
   ]
  },
  {
   "cell_type": "code",
   "execution_count": 823,
   "id": "c5720435",
   "metadata": {},
   "outputs": [],
   "source": [
    "X_train_filtered = X_train_resampled.drop(columns=list(corr_features))\n",
    "X_val_filtered = X_val.drop(columns=list(corr_features))\n",
    "X_test_filtered = X_test.drop(columns=list(corr_features))"
   ]
  },
  {
   "cell_type": "code",
   "execution_count": 824,
   "id": "46e81f47",
   "metadata": {},
   "outputs": [
    {
     "data": {
      "text/plain": [
       "65"
      ]
     },
     "execution_count": 824,
     "metadata": {},
     "output_type": "execute_result"
    }
   ],
   "source": [
    "corr_features = correlation(X_train_filtered, 0.5)\n",
    "len(set(corr_features))"
   ]
  },
  {
   "cell_type": "code",
   "execution_count": 825,
   "id": "cf0421fd",
   "metadata": {},
   "outputs": [],
   "source": [
    "X_train_filtered = X_train_filtered.drop(columns=list(corr_features))\n",
    "X_val_filtered = X_val_filtered.drop(columns=list(corr_features))\n",
    "X_test_filtered = X_test_filtered.drop(columns=list(corr_features))"
   ]
  },
  {
   "cell_type": "code",
   "execution_count": 826,
   "id": "d436a7c3",
   "metadata": {},
   "outputs": [],
   "source": [
    "scaler = StandardScaler()\n",
    "X_train_scaled = scaler.fit_transform(X_train_filtered)\n",
    "X_val_scaled = scaler.transform(X_val_filtered)\n",
    "X_test_scaled = scaler.transform(X_test_filtered)"
   ]
  },
  {
   "cell_type": "code",
   "execution_count": 828,
   "id": "c9bb18e3",
   "metadata": {},
   "outputs": [
    {
     "name": "stdout",
     "output_type": "stream",
     "text": [
      "Accuracy: 99.33%\n"
     ]
    }
   ],
   "source": [
    "accuracy = knn_classifier(X_train_scaled, y_train_resampled, X_val_scaled, y_val['label_4'] )\n",
    "print(f\"Accuracy: {accuracy * 100:.2f}%\")"
   ]
  },
  {
   "cell_type": "code",
   "execution_count": 829,
   "id": "582f339e",
   "metadata": {},
   "outputs": [],
   "source": [
    "pca = PCA(n_components=0.95, svd_solver='full')\n",
    "X_train_pca = pca.fit_transform(X_train_scaled)\n",
    "X_val_pca = pca.transform(X_val_scaled)\n",
    "X_test_pca = pca.transform(X_test_scaled)"
   ]
  },
  {
   "cell_type": "code",
   "execution_count": 830,
   "id": "a63ae0d0",
   "metadata": {},
   "outputs": [
    {
     "data": {
      "text/plain": [
       "61"
      ]
     },
     "execution_count": 830,
     "metadata": {},
     "output_type": "execute_result"
    }
   ],
   "source": [
    "X_train_pca.shape[1]"
   ]
  },
  {
   "cell_type": "code",
   "execution_count": 831,
   "id": "668dbb41",
   "metadata": {},
   "outputs": [
    {
     "name": "stdout",
     "output_type": "stream",
     "text": [
      "61\n"
     ]
    }
   ],
   "source": [
    "min_shape = 256\n",
    "while True:\n",
    "    pca = PCA(n_components=0.95, svd_solver='full')\n",
    "    min_shape = X_train_pca.shape[1]\n",
    "    X_train_pca = pca.fit_transform(X_train_pca)\n",
    "    X_val_pca = pca.transform(X_val_pca)\n",
    "    X_test_pca = pca.transform(X_test_pca)\n",
    "    accuracy_val = knn_classifier(X_train_pca, y_train_resampled, X_val_pca, y_val['label_3'] )\n",
    "    y_pred_test = knn.predict(np.array(X_test_pca))\n",
    "    accuracy_test = accuracy_score(y_test['label_4'], y_pred_test)\n",
    "    if accuracy_val < 0.985 or accuracy_test < 0.985:\n",
    "        break\n",
    " \n",
    "print (min_shape)\n"
   ]
  },
  {
   "cell_type": "code",
   "execution_count": 847,
   "id": "47e49c40",
   "metadata": {},
   "outputs": [],
   "source": [
    "pca = PCA(n_components=34, svd_solver='full')\n",
    "X_train_pca = pca.fit_transform(X_train_scaled)\n",
    "X_val_pca = pca.transform(X_val_scaled)\n",
    "X_test_pca = pca.transform(X_test_scaled)"
   ]
  },
  {
   "cell_type": "code",
   "execution_count": 848,
   "id": "7da8ce2a",
   "metadata": {},
   "outputs": [
    {
     "name": "stdout",
     "output_type": "stream",
     "text": [
      "Accuracy: 98.67%\n"
     ]
    }
   ],
   "source": [
    "accuracy = knn_classifier(X_train_pca, y_train_resampled, X_val_pca, y_val['label_4'] )\n",
    "print(f\"Accuracy: {accuracy * 100:.2f}%\")"
   ]
  },
  {
   "cell_type": "code",
   "execution_count": 849,
   "id": "03556865",
   "metadata": {},
   "outputs": [
    {
     "name": "stdout",
     "output_type": "stream",
     "text": [
      "Accuracy: 99.07%\n"
     ]
    }
   ],
   "source": [
    "y_pred_test = knn.predict(np.array(X_test_pca))\n",
    "\n",
    "accuracy = accuracy_score(y_test['label_4'], y_pred_test)\n",
    "print(f\"Accuracy: {accuracy * 100:.2f}%\")"
   ]
  },
  {
   "cell_type": "code",
   "execution_count": 850,
   "id": "97148961",
   "metadata": {},
   "outputs": [
    {
     "data": {
      "text/plain": [
       "array(['pca0', 'pca1', 'pca2', 'pca3', 'pca4', 'pca5', 'pca6', 'pca7',\n",
       "       'pca8', 'pca9', 'pca10', 'pca11', 'pca12', 'pca13', 'pca14',\n",
       "       'pca15', 'pca16', 'pca17', 'pca18', 'pca19', 'pca20', 'pca21',\n",
       "       'pca22', 'pca23', 'pca24', 'pca25', 'pca26', 'pca27', 'pca28',\n",
       "       'pca29', 'pca30', 'pca31', 'pca32', 'pca33'], dtype=object)"
      ]
     },
     "execution_count": 850,
     "metadata": {},
     "output_type": "execute_result"
    }
   ],
   "source": [
    "label4_features = pca.get_feature_names_out()\n",
    "label4_features"
   ]
  },
  {
   "cell_type": "code",
   "execution_count": 851,
   "id": "22696168",
   "metadata": {},
   "outputs": [
    {
     "data": {
      "image/png": "[encoded data removed]",
      "text/plain": [
       "<Figure size 640x480 with 1 Axes>"
      ]
     },
     "metadata": {},
     "output_type": "display_data"
    }
   ],
   "source": [
    "plt.bar(\n",
    "    range(1,len(pca.explained_variance_)+1),\n",
    "    pca.explained_variance_\n",
    "    )\n",
    " \n",
    "plt.plot(\n",
    "    range(1,len(pca.explained_variance_ )+1),\n",
    "    np.cumsum(pca.explained_variance_),\n",
    "    c='red',\n",
    "    label='Label_4')\n",
    " \n",
    "plt.legend(loc='upper left')\n",
    "plt.xlabel('Number of Features')\n",
    "plt.ylabel('Explained variance (eignenvalues)')\n",
    "plt.title('Scree plot')\n",
    " \n",
    "plt.show()"
   ]
  },
  {
   "cell_type": "markdown",
   "id": "05c402b3",
   "metadata": {},
   "source": [
    "### Summary"
   ]
  },
  {
   "cell_type": "code",
   "execution_count": 853,
   "id": "0afdae8a",
   "metadata": {},
   "outputs": [
    {
     "name": "stdout",
     "output_type": "stream",
     "text": [
      "Features to determine Speaker ID (Label_1): 48\n",
      "Features to determine Speaker Age (Label_2): 25\n",
      "Features to determine Speaker Gender (Label_3): 35\n",
      "Features to determine Speaker Accent (Label_4): 34\n"
     ]
    }
   ],
   "source": [
    "print (f\"Features to determine Speaker ID (Label_1): {len(set(label1_features))}\")\n",
    "print (f\"Features to determine Speaker Age (Label_2): {len(set(label2_features))}\")\n",
    "print (f\"Features to determine Speaker Gender (Label_3): {len(set(label3_features))}\")\n",
    "print (f\"Features to determine Speaker Accent (Label_4): {len(set(label4_features))}\")"
   ]
  }
 ],
 "metadata": {
  "kernelspec": {
   "display_name": "mlproj",
   "language": "python",
   "name": "python3"
  },
  "language_info": {
   "codemirror_mode": {
    "name": "ipython",
    "version": 3
   },
   "file_extension": ".py",
   "mimetype": "text/x-python",
   "name": "python",
   "nbconvert_exporter": "python",
   "pygments_lexer": "ipython3",
   "version": "3.10.0"
  }
 },
 "nbformat": 4,
 "nbformat_minor": 5
}
